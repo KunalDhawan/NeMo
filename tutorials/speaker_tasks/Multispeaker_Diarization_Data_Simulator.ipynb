{
 "cells": [
  {
   "cell_type": "code",
   "execution_count": null,
   "metadata": {},
   "outputs": [],
   "source": [
    "import socket\n",
    "\n",
    "computer_name = socket.gethostname()\n",
    "print(\"Computer Name:\", computer_name)\n",
    "if computer_name == \"aiapps-06052021\":\n",
    "    # CatSim testing\n",
    "    import sys\n",
    "    branch_name=\"mscanary_speaker_dataloader\"\n",
    "    print(sys.path)\n",
    "    sys.path.insert(0,f'/home/taejinp/projects/{branch_name}/NeMo/')\n",
    "    NEMO_DIR_PATH=f'/home/taejinp/projects/{branch_name}/NeMo/'\n",
    "    import nemo\n",
    "    print(\"Nemo PATH:\", nemo.__path__)\n",
    "    NEMO_DIR_PATH = f\"/home/taejinp/projects/{branch_name}/NeMo\"\n",
    "    BRANCH = branch_name\n",
    "    print(f\"Current imported nemo: {NEMO_DIR_PATH}\")\n",
    "\n",
    "\n",
    "from nemo.collections.asr.parts.utils.asr_multispeaker_utils import find_segments_from_rttm\n",
    "from nemo.collections.common.data.lhotse.cutset import read_cutset_from_config\n",
    "from nemo.collections.common.data.lhotse.dataloader import LhotseDataLoadingConfig\n",
    "from omegaconf import DictConfig, OmegaConf\n",
    "\n",
    "from nemo.collections.asr.parts.utils.asr_multispeaker_utils import ConcatenationMeetingSimulator\n",
    "\n",
    "sim_cuts = ConcatenationMeetingSimulator(\n",
    "    intra_session_concat_prob=0.2,\n",
    "    data_type=\"diar\",\n",
    "    min_duration=80.0,\n",
    "    max_duration=100.0,\n",
    "    max_num_speakers=4,\n",
    "    skip_long_segments=True,\n",
    ")\n",
    "cfg = LhotseDataLoadingConfig()\n",
    "cfg.manifest_filepath = \"/gpfs/fs1/projects/ent_aiapps/datasets/data/MultiSpeakerASR/Fisher/sortformer_training_fisher_catsim_c1c2mixed_45slen_45shop.short100.json\"\n",
    "cfg = OmegaConf.create(cfg)\n",
    "cuts, is_tarred = read_cutset_from_config(cfg)\n",
    "simulated_cuts = sim_cuts.simulate(cuts, num_meetings=1000, num_jobs=1)\n",
    "\n",
    "# import ipdb; ipdb.set_trace()\n",
    "# cut.load_audio()"
   ]
  },
  {
   "cell_type": "code",
   "execution_count": null,
   "metadata": {},
   "outputs": [],
   "source": [
    "print(simulated_cuts[0])\n",
    "a_cut = simulated_cuts[123]\n",
    "for a_cut in simulated_cuts:\n",
    "    if a_cut.tracks[0].cut.custom.get(\"dataset_id\", None):\n",
    "        print(\"dataset_id EXISTS\")\n",
    "\n"
   ]
  },
  {
   "cell_type": "code",
   "execution_count": null,
   "metadata": {},
   "outputs": [],
   "source": []
  }
 ],
 "metadata": {
  "kernelspec": {
   "display_name": "sodi1",
   "language": "python",
   "name": "python3"
  },
  "language_info": {
   "codemirror_mode": {
    "name": "ipython",
    "version": 3
   },
   "file_extension": ".py",
   "mimetype": "text/x-python",
   "name": "python",
   "nbconvert_exporter": "python",
   "pygments_lexer": "ipython3",
   "version": "3.10.14"
  },
  "orig_nbformat": 4
 },
 "nbformat": 4,
 "nbformat_minor": 2
}
