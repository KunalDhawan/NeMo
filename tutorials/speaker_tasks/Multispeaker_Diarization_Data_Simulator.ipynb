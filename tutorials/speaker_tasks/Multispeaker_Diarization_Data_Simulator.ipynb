{
 "cells": [
  {
   "cell_type": "code",
   "execution_count": 2,
   "metadata": {},
   "outputs": [
    {
     "ename": "ModuleNotFoundError",
     "evalue": "No module named 'nemo'",
     "output_type": "error",
     "traceback": [
      "\u001b[0;31m---------------------------------------------------------------------------\u001b[0m",
      "\u001b[0;31mModuleNotFoundError\u001b[0m                       Traceback (most recent call last)",
      "Cell \u001b[0;32mIn[2], line 2\u001b[0m\n\u001b[1;32m      1\u001b[0m \u001b[39m# CatSim testing\u001b[39;00m\n\u001b[0;32m----> 2\u001b[0m \u001b[39mfrom\u001b[39;00m \u001b[39mnemo\u001b[39;00m\u001b[39m.\u001b[39;00m\u001b[39mcollections\u001b[39;00m\u001b[39m.\u001b[39;00m\u001b[39masr\u001b[39;00m\u001b[39m.\u001b[39;00m\u001b[39mparts\u001b[39;00m\u001b[39m.\u001b[39;00m\u001b[39mutils\u001b[39;00m\u001b[39m.\u001b[39;00m\u001b[39masr_multispeaker_utils\u001b[39;00m \u001b[39mimport\u001b[39;00m find_segments_from_rttm\n\u001b[1;32m      3\u001b[0m \u001b[39mfrom\u001b[39;00m \u001b[39mnemo\u001b[39;00m\u001b[39m.\u001b[39;00m\u001b[39mcollections\u001b[39;00m\u001b[39m.\u001b[39;00m\u001b[39mcommon\u001b[39;00m\u001b[39m.\u001b[39;00m\u001b[39mdata\u001b[39;00m\u001b[39m.\u001b[39;00m\u001b[39mlhotse\u001b[39;00m\u001b[39m.\u001b[39;00m\u001b[39mcutset\u001b[39;00m \u001b[39mimport\u001b[39;00m read_cutset_from_config\n\u001b[1;32m      4\u001b[0m \u001b[39mfrom\u001b[39;00m \u001b[39mnemo\u001b[39;00m\u001b[39m.\u001b[39;00m\u001b[39mcollections\u001b[39;00m\u001b[39m.\u001b[39;00m\u001b[39mcommon\u001b[39;00m\u001b[39m.\u001b[39;00m\u001b[39mdata\u001b[39;00m\u001b[39m.\u001b[39;00m\u001b[39mlhotse\u001b[39;00m\u001b[39m.\u001b[39;00m\u001b[39mdataloader\u001b[39;00m \u001b[39mimport\u001b[39;00m LhotseDataLoadingConfig\n",
      "\u001b[0;31mModuleNotFoundError\u001b[0m: No module named 'nemo'"
     ]
    }
   ],
   "source": [
    "# CatSim testing\n",
    "from nemo.collections.asr.parts.utils.asr_multispeaker_utils import find_segments_from_rttm\n",
    "from nemo.collections.common.data.lhotse.cutset import read_cutset_from_config\n",
    "from nemo.collections.common.data.lhotse.dataloader import LhotseDataLoadingConfig\n",
    "from omegaconf import DictConfig, OmegaConf\n",
    "\n",
    "from nemo.collections.asr.parts.utils.asr_multispeaker_utils import ConcatenationMeetingSimulator\n",
    "\n",
    "s = ConcatenationMeetingSimulator(\n",
    "    intra_session_concat_prob=0.2,\n",
    "    data_type=\"diar\",\n",
    "    min_duration=80.0,\n",
    "    max_duration=100.0,\n",
    "    max_num_speakers=4,\n",
    "    skip_long_segments=True,\n",
    ")\n",
    "cfg = LhotseDataLoadingConfig()\n",
    "# cfg.manifest_filepath = \"/home/weiqingw/workspace/projects/diar/e2e/diar_sortformer/data_cleaning_script/tmp/ami_train_segment_10-20.json\"\n",
    "# cfg.manifest_filepath = \"/home/weiqingw/workspace/projects/diasr/concat_simulator/fisher_concat_c1_c2_mixed.json\"\n",
    "cfg.manifest_filepath = \"/gpfs/fs1/projects/ent_aiapps/datasets/data/MultiSpeakerASR/Fisher/sortformer_training_fisher_catsim_c1c2mixed_45slen_45shop.short100.json\"\n",
    "cfg = OmegaConf.create(cfg)\n",
    "cuts, is_tarred = read_cutset_from_config(cfg)\n",
    "simulated_cuts = s.simulate(cuts, num_meetings=1000000, num_jobs=1)\n",
    "\n",
    "import ipdb; ipdb.set_trace()\n",
    "# cut.load_audio()"
   ]
  },
  {
   "cell_type": "code",
   "execution_count": null,
   "metadata": {},
   "outputs": [],
   "source": []
  }
 ],
 "metadata": {
  "kernelspec": {
   "display_name": "sodi1",
   "language": "python",
   "name": "python3"
  },
  "language_info": {
   "codemirror_mode": {
    "name": "ipython",
    "version": 3
   },
   "file_extension": ".py",
   "mimetype": "text/x-python",
   "name": "python",
   "nbconvert_exporter": "python",
   "pygments_lexer": "ipython3",
   "version": "3.10.14"
  },
  "orig_nbformat": 4
 },
 "nbformat": 4,
 "nbformat_minor": 2
}
